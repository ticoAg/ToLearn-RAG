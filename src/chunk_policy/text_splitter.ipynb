{
 "cells": [
  {
   "cell_type": "code",
   "execution_count": 16,
   "metadata": {},
   "outputs": [
    {
     "data": {
      "text/plain": [
       "'豆瓣8.8分《我的阿勒泰》让无数人重新恋爱：我们终其一生，都在等一个看见自己的人\\n清华大学出版社 2'"
      ]
     },
     "execution_count": 16,
     "metadata": {},
     "output_type": "execute_result"
    }
   ],
   "source": [
    "from pathlib import Path\n",
    "from langchain.document_loaders import TextLoader\n",
    "from langchain_text_splitters import TextSplitter\n",
    "\n",
    "path = Path.cwd().parents[1] / \"docs\" / \"example_files\" / \"我的阿勒泰.txt\"\n",
    "text = open(path, \"r\").read()\n",
    "text[:50]"
   ]
  },
  {
   "cell_type": "code",
   "execution_count": 24,
   "metadata": {},
   "outputs": [],
   "source": [
    "def do_split(splitter: TextSplitter, text: str) -> None:\n",
    "    \"\"\"定义一个统一的、执行切分操作及打印的方法\"\"\"\n",
    "    splited_texts = splitter.split_text(text)\n",
    "    for i in splited_texts[:4]:\n",
    "        print(f\"Length:{len(i)}\\nChunk:\\n{i}\")\n",
    "        print()"
   ]
  },
  {
   "cell_type": "markdown",
   "metadata": {},
   "source": [
    "# 简单字符分割\n"
   ]
  },
  {
   "cell_type": "code",
   "execution_count": 25,
   "metadata": {},
   "outputs": [
    {
     "name": "stdout",
     "output_type": "stream",
     "text": [
      "Length:297\n",
      "Chunk:\n",
      "豆瓣8.8分《我的阿勒泰》让无数人重新恋爱：我们终其一生，都在等一个看见自己的人\n",
      "清华大学出版社 2024-05-20 12:50 北京\n",
      "以下文章来源于女友家园LOVE ，作者晶莹的莹\n",
      "本文授权转载自 女友家园LOVE(ID:nvyoujiayuan1988)\n",
      "微信公众号\n",
      "作者：晶莹的莹\n",
      "在哈萨克文化里，人与人之间产生友情，或者爱情，是由于被看见。\n",
      "所以，在哈萨克语中，“我喜欢你”的意思是“我清楚地看见你”。\n",
      "这是热播剧《我的阿勒泰》中的一段台词。\n",
      "喜欢一个人，是在众人中一眼将TA认出；\n",
      "是在看到和TA相关的事情时，第一个想到TA；\n",
      "是在看到和TA不相关的事情时，在心中拐几个弯想到TA。\n",
      "\n",
      "Length:279\n",
      "Chunk:\n",
      "是在看到和TA不相关的事情时，在心中拐几个弯想到TA。\n",
      "被看见，是因为喜欢，因为在乎，因为眼睛和心灵都在追随一个身影，感受一个生命。\n",
      "乡村舞会上，文秀无意间看到巴太放在那里的衣服，只见她轻轻拿起来，略微迟疑了一下，然后再放回边上。\n",
      "这样一个简单的动作，一个短暂的迟疑，便是喜欢。\n",
      "我们常说，喜欢一个人的时候，眼前都是TA。\n",
      "看到巴太的衣服，就是看到了他，就是想起了和他之间的一切，就是会迟疑，会慌张，会觉得他那么近又那么远，那么熟悉又那么陌生。\n",
      "而巴太，看见下雨，会想到文秀的毡房是否漏雨；\n",
      "看到核桃，会想要剥一把给文秀吃；\n",
      "看到小花，会想要戴在文秀的发梢；\n",
      "\n",
      "Length:265\n",
      "Chunk:\n",
      "看到小花，会想要戴在文秀的发梢；\n",
      "看到桦树，会想到文秀喜爱写作，她的稿纸刚好用完了，而桦树皮也是不错的稿纸。\n",
      "这份看见，不仅用眼睛，更是用心灵。\n",
      "这份看见，是透过一颗心，感受另一颗心；透过一个生命，感受另一个生命。\n",
      "还记得，巴太的嫂子托肯一直想要一个搓衣板，但直到最后一集都没有得到。\n",
      "婚姻中的托肯，没有人看到她在付出，也没有人在乎她需要什么。\n",
      "不被看见，是一种孤独。\n",
      "能被看见，是一种幸福，更是一种幸运。\n",
      "每一份喜欢，都是从看见开始，看见TA的美好与善良，看见TA的付出与坚强，看见TA的欢喜与忧伤，直到，看见自己对TA的心意。\n",
      "\n",
      "Length:298\n",
      "Chunk:\n",
      "我们在看见TA的同时，也看见了自己，我们在看见她欲言又止的时候，也明白了自己的期待。\n",
      "文秀问巴太有心上人吗？巴太这样回答：\n",
      "“我的心上人还不明显吗？”\n",
      "“是谁第一次看到踏雪进步的？我带你看的，你还不明白吗？”\n",
      "踏雪是巴太最心爱的马，带自己最喜欢的女孩，来看自己最心爱的马，是巴太对文秀的偏爱。\n",
      "生活中遇到一些美好时刻，总会第一个想到喜欢的人，想要和TA分享。\n",
      "此后，也许人人都会见到这个时刻，但，都不如第一个人看到的那样美好，那样独特，那样意义非凡。\n",
      "偏爱就是，哪怕是要给你看和别人一样的东西，也会多加一些心思，多倾注一些感情。\n",
      "有人说，搓衣板是压倒托肯的最后一根稻草，她美丽、能干、热情、善良。\n",
      "\n"
     ]
    }
   ],
   "source": [
    "from langchain_text_splitters import CharacterTextSplitter\n",
    "\n",
    "# 按字符切割语义块, 以提供的separator分割, 合并组成最大不超过chunk_size的块\n",
    "# 每相邻的块允许借用合计字符总数不超过chunk_overlap的组合句\n",
    "# 舍弃分隔符\n",
    "# 前后删除换行/空格\n",
    "splitter = CharacterTextSplitter(\n",
    "    separator=\"\\n\",\n",
    "    chunk_size=300,\n",
    "    chunk_overlap=30,\n",
    "    keep_separator=False,\n",
    "    strip_whitespace=True,\n",
    ")\n",
    "do_split(splitter, text)"
   ]
  },
  {
   "cell_type": "code",
   "execution_count": 27,
   "metadata": {},
   "outputs": [],
   "source": [
    "# 递归性的字符分割"
   ]
  },
  {
   "cell_type": "code",
   "execution_count": 26,
   "metadata": {},
   "outputs": [
    {
     "name": "stdout",
     "output_type": "stream",
     "text": [
      "Length:297\n",
      "Chunk:\n",
      "豆瓣8.8分《我的阿勒泰》让无数人重新恋爱：我们终其一生，都在等一个看见自己的人\n",
      "清华大学出版社 2024-05-20 12:50 北京\n",
      "以下文章来源于女友家园LOVE ，作者晶莹的莹\n",
      "本文授权转载自 女友家园LOVE(ID:nvyoujiayuan1988)\n",
      "微信公众号\n",
      "作者：晶莹的莹\n",
      "在哈萨克文化里，人与人之间产生友情，或者爱情，是由于被看见。\n",
      "所以，在哈萨克语中，“我喜欢你”的意思是“我清楚地看见你”。\n",
      "这是热播剧《我的阿勒泰》中的一段台词。\n",
      "喜欢一个人，是在众人中一眼将TA认出；\n",
      "是在看到和TA相关的事情时，第一个想到TA；\n",
      "是在看到和TA不相关的事情时，在心中拐几个弯想到TA。\n",
      "\n",
      "Length:285\n",
      "Chunk:\n",
      "是在看到和TA相关的事情时，第一个想到TA；\n",
      "是在看到和TA不相关的事情时，在心中拐几个弯想到TA。\n",
      "被看见，是因为喜欢，因为在乎，因为眼睛和心灵都在追随一个身影，感受一个生命。\n",
      "乡村舞会上，文秀无意间看到巴太放在那里的衣服，只见她轻轻拿起来，略微迟疑了一下，然后再放回边上。\n",
      "这样一个简单的动作，一个短暂的迟疑，便是喜欢。\n",
      "我们常说，喜欢一个人的时候，眼前都是TA。\n",
      "看到巴太的衣服，就是看到了他，就是想起了和他之间的一切，就是会迟疑，会慌张，会觉得他那么近又那么远，那么熟悉又那么陌生。\n",
      "而巴太，看见下雨，会想到文秀的毡房是否漏雨；\n",
      "看到核桃，会想要剥一把给文秀吃；\n",
      "\n",
      "Length:243\n",
      "Chunk:\n",
      "而巴太，看见下雨，会想到文秀的毡房是否漏雨；\n",
      "看到核桃，会想要剥一把给文秀吃；\n",
      "看到小花，会想要戴在文秀的发梢；\n",
      "看到桦树，会想到文秀喜爱写作，她的稿纸刚好用完了，而桦树皮也是不错的稿纸。\n",
      "这份看见，不仅用眼睛，更是用心灵。\n",
      "这份看见，是透过一颗心，感受另一颗心；透过一个生命，感受另一个生命。\n",
      "还记得，巴太的嫂子托肯一直想要一个搓衣板，但直到最后一集都没有得到。\n",
      "婚姻中的托肯，没有人看到她在付出，也没有人在乎她需要什么。\n",
      "不被看见，是一种孤独。\n",
      "能被看见，是一种幸福，更是一种幸运。\n",
      "\n",
      "Length:272\n",
      "Chunk:\n",
      "不被看见，是一种孤独。\n",
      "能被看见，是一种幸福，更是一种幸运。\n",
      "每一份喜欢，都是从看见开始，看见TA的美好与善良，看见TA的付出与坚强，看见TA的欢喜与忧伤，直到，看见自己对TA的心意。\n",
      "我们在看见TA的同时，也看见了自己，我们在看见她欲言又止的时候，也明白了自己的期待。\n",
      "文秀问巴太有心上人吗？巴太这样回答：\n",
      "“我的心上人还不明显吗？”\n",
      "“是谁第一次看到踏雪进步的？我带你看的，你还不明白吗？”\n",
      "踏雪是巴太最心爱的马，带自己最喜欢的女孩，来看自己最心爱的马，是巴太对文秀的偏爱。\n",
      "生活中遇到一些美好时刻，总会第一个想到喜欢的人，想要和TA分享。\n",
      "\n"
     ]
    }
   ],
   "source": [
    "from langchain_text_splitters import RecursiveCharacterTextSplitter\n",
    "\n",
    "# 1. 递归的根据传入的分隔符切分为最细的短句\n",
    "# 2. 循环取第一个chunk的短句直到最后一句>chunk_size舍弃\n",
    "# 3. 开始第二个chunk, 先观察前一个最后一句是否小于chunk_overlap\n",
    "# 3.1. 是则归到下一句中, 继续判断前一个chunk的倒数第二句, 直到大于overlap时舍弃\n",
    "# 3.2. 否则当前块不进行前向重合, 自顾自取新的短句即可\n",
    "# 4. 从第一个chunk收入的末尾短句index+1开始append到第二个chunk的短句列表中\n",
    "# 5. 迭代\n",
    "splitter = RecursiveCharacterTextSplitter(\n",
    "    separators=[\"\\n\", \".\", \"。\", \"!\", \"！\", \"?\", \"？\"],\n",
    "    keep_separator=False,\n",
    "    chunk_size=300,\n",
    "    chunk_overlap=50,\n",
    ")\n",
    "do_split(splitter, text)"
   ]
  },
  {
   "cell_type": "markdown",
   "metadata": {},
   "source": [
    "# 基于语义的分割 - Exp\n",
    "\n",
    "> Ref https://community.fullstackretrieval.com/document-loaders/text-splitting\n",
    "\n",
    "基于一个假设: 相似的语义块应该放在一段中, Embedding 可以进行有效的语义表征\n",
    "设定以下几种操作:\n",
    "\n",
    "1. 把文章分成许多短句\n",
    "2. 依次拼接短句进行 embedding, 与拼接前 embedding 计算相似度, 大于阈值视为表达了同一个语义应当分到一个 chunk 中\n",
    "3. 小于阈值则新开一个 chunk 进行操作 2\n"
   ]
  },
  {
   "cell_type": "code",
   "execution_count": null,
   "metadata": {},
   "outputs": [],
   "source": []
  }
 ],
 "metadata": {
  "kernelspec": {
   "display_name": "lccc",
   "language": "python",
   "name": "python3"
  },
  "language_info": {
   "codemirror_mode": {
    "name": "ipython",
    "version": 3
   },
   "file_extension": ".py",
   "mimetype": "text/x-python",
   "name": "python",
   "nbconvert_exporter": "python",
   "pygments_lexer": "ipython3",
   "version": "3.10.14"
  }
 },
 "nbformat": 4,
 "nbformat_minor": 2
}
